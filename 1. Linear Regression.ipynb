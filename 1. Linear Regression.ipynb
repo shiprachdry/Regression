{
 "cells": [
  {
   "cell_type": "markdown",
   "metadata": {
    "id": "YqCSLkX4Ai9a"
   },
   "source": [
    "Please make sure your code runs and the graphs and figures are displayed in your notebook before submitting (use %matplotlib inline).\n",
    "\n",
    "Additionally, upload any images you plan to incorporate in your notebook as attachments so we can see them in case the uploaded images don't appear properly on our end."
   ]
  },
  {
   "cell_type": "markdown",
   "metadata": {
    "id": "q9i7mNDxC1JV"
   },
   "source": [
    "## 1. Linear Regression (10 points)\n",
    "The given file `PricesSales.xls` contains sales data for a commodity along with two variables p1 and p2 which can predict the sales. Given this dataset we need to build linear regression models and visualise their predictions. Use the following steps for training and visualising :\n",
    "\n",
    "i). Divide the data into a train and test set where train dataset consists of 80% of the entire dataset and test consists of the remaining 20%. (2 points)\n",
    "\n",
    "ii). Using Ordinary Least Squares from [sklearn](https://scikit-learn.org/stable/modules/linear_model.html), train 3 different Linear Regression models with 1) only p1 as an independent variable (Model-1), 2) only p2 as an independent variable (Model-2), and 3) both [p1, p2] in independent variables (Model-3). (5 points)\n",
    "\n",
    "iii). Predict the value of sales by using each of the above trained models independently to obtain 3 sets of predictions. (3 points)\n",
    "\n",
    "iv). Now in three different figures, plot:\n",
    "\n",
    "  a) predictions obtained using Model-1 vs actual (true) sales.\n",
    "\n",
    "  b) predictions obtained using Model-2 vs actual (true) sales.\n",
    "\n",
    "  c) predictions obtained using Model-3 vs actual (true) sales.\n"
   ]
  },
  {
   "cell_type": "markdown",
   "metadata": {
    "id": "pEfROaNqz9YH"
   },
   "source": [
    "Solution"
   ]
  },
  {
   "cell_type": "code",
   "execution_count": 28,
   "metadata": {
    "id": "-ekgqGA2z-lz"
   },
   "outputs": [],
   "source": [
    "import pandas as pd\n",
    "import matplotlib.pyplot as plt\n",
    "import numpy as np\n",
    "import seaborn as sns\n",
    "import statsmodels.api as sm\n",
    "from scipy import stats\n",
    "%matplotlib inline\n",
    "\n",
    "from sklearn.model_selection import train_test_split\n",
    "from sklearn.linear_model import LinearRegression"
   ]
  },
  {
   "cell_type": "code",
   "execution_count": 29,
   "metadata": {
    "id": "wROd9Z-jz_D0"
   },
   "outputs": [
    {
     "data": {
      "text/html": [
       "<div>\n",
       "<style scoped>\n",
       "    .dataframe tbody tr th:only-of-type {\n",
       "        vertical-align: middle;\n",
       "    }\n",
       "\n",
       "    .dataframe tbody tr th {\n",
       "        vertical-align: top;\n",
       "    }\n",
       "\n",
       "    .dataframe thead th {\n",
       "        text-align: right;\n",
       "    }\n",
       "</style>\n",
       "<table border=\"1\" class=\"dataframe\">\n",
       "  <thead>\n",
       "    <tr style=\"text-align: right;\">\n",
       "      <th></th>\n",
       "      <th>p1</th>\n",
       "      <th>p2</th>\n",
       "      <th>Sales</th>\n",
       "    </tr>\n",
       "  </thead>\n",
       "  <tbody>\n",
       "    <tr>\n",
       "      <th>0</th>\n",
       "      <td>5.135670</td>\n",
       "      <td>5.204186</td>\n",
       "      <td>144.487885</td>\n",
       "    </tr>\n",
       "    <tr>\n",
       "      <th>1</th>\n",
       "      <td>3.495460</td>\n",
       "      <td>8.059732</td>\n",
       "      <td>637.245239</td>\n",
       "    </tr>\n",
       "    <tr>\n",
       "      <th>2</th>\n",
       "      <td>7.275341</td>\n",
       "      <td>11.675979</td>\n",
       "      <td>620.786926</td>\n",
       "    </tr>\n",
       "    <tr>\n",
       "      <th>3</th>\n",
       "      <td>4.662816</td>\n",
       "      <td>8.364421</td>\n",
       "      <td>549.007141</td>\n",
       "    </tr>\n",
       "    <tr>\n",
       "      <th>4</th>\n",
       "      <td>3.584537</td>\n",
       "      <td>2.150292</td>\n",
       "      <td>20.425419</td>\n",
       "    </tr>\n",
       "  </tbody>\n",
       "</table>\n",
       "</div>"
      ],
      "text/plain": [
       "         p1         p2       Sales\n",
       "0  5.135670   5.204186  144.487885\n",
       "1  3.495460   8.059732  637.245239\n",
       "2  7.275341  11.675979  620.786926\n",
       "3  4.662816   8.364421  549.007141\n",
       "4  3.584537   2.150292   20.425419"
      ]
     },
     "execution_count": 29,
     "metadata": {},
     "output_type": "execute_result"
    }
   ],
   "source": [
    "dataset = pd.read_excel('C:/Users/I068117/UT_Machine Learning/Regression/PricesSales.xls')\n",
    "dataset.head()"
   ]
  },
  {
   "cell_type": "markdown",
   "metadata": {},
   "source": [
    "Divide the data into a train and test set where train dataset consists of 80% of the entire dataset and test consists of the remaining 20%."
   ]
  },
  {
   "cell_type": "code",
   "execution_count": 6,
   "metadata": {},
   "outputs": [],
   "source": [
    "# Creating X with all numeric columns and Y as mpg column\n",
    "X= dataset.drop(['Sales'],axis=1)\n",
    "y= dataset['Sales']\n",
    "\n",
    "#Splitting the data-set into test & train dataset to evaluate the model performance \n",
    "from sklearn.model_selection import train_test_split\n",
    "X_train, X_test, y_train, y_test = train_test_split(X, y, test_size=0.20, random_state=42)"
   ]
  },
  {
   "cell_type": "markdown",
   "metadata": {},
   "source": [
    "Using Ordinary Least Squares from sklearn, train 3 different Linear Regression models with 1) only p1 as an independent variable (Model-1), 2) only p2 as an independent variable (Model-2), and 3) both [p1, p2] in independent variables (Model-3)."
   ]
  },
  {
   "cell_type": "markdown",
   "metadata": {},
   "source": [
    "1) only p1 as an independent variable (Model-1)"
   ]
  },
  {
   "cell_type": "code",
   "execution_count": 10,
   "metadata": {},
   "outputs": [],
   "source": [
    "lm1 = LinearRegression().fit(X_train['p1'].values.reshape(-1, 1),y_train)\n",
    "lm2 = LinearRegression().fit(X_train['p2'].values.reshape(-1, 1),y_train)\n",
    "lm3 = LinearRegression().fit(X_train,y_train)"
   ]
  },
  {
   "cell_type": "markdown",
   "metadata": {},
   "source": [
    "Predict the value of sales by using each of the above trained models independently to obtain 3 sets of predictions."
   ]
  },
  {
   "cell_type": "code",
   "execution_count": 17,
   "metadata": {},
   "outputs": [],
   "source": [
    "Y_test_pred1=lm1.predict(X_test['p1'].values.reshape(-1, 1))\n",
    "Y_test_pred2=lm2.predict(X_test['p2'].values.reshape(-1, 1))\n",
    "Y_test_pred3=lm3.predict(X_test)"
   ]
  },
  {
   "cell_type": "markdown",
   "metadata": {},
   "source": [
    "a) predictions obtained using Model-1 vs actual (true) sales.\n",
    "\n",
    "b) predictions obtained using Model-2 vs actual (true) sales.\n",
    "\n",
    "c) predictions obtained using Model-3 vs actual (true) sales."
   ]
  },
  {
   "cell_type": "code",
   "execution_count": 23,
   "metadata": {},
   "outputs": [
    {
     "data": {
      "image/png": "[encoded data removed]",
      "text/plain": [
       "<Figure size 1080x360 with 3 Axes>"
      ]
     },
     "metadata": {
      "needs_background": "light"
     },
     "output_type": "display_data"
    }
   ],
   "source": [
    "fig, ax = plt.subplots(nrows=1, ncols=3, figsize=(15, 5))\n",
    "\n",
    "sns.scatterplot(x=y_test, y=Y_test_pred1, ax=ax[0])\n",
    "ax[0].set_xlabel('True Values')\n",
    "ax[0].set_ylabel('Predicted Values')\n",
    "ax[0].set_title('Model 1')\n",
    "sns.scatterplot(x=y_test, y=Y_test_pred2, ax=ax[1])\n",
    "ax[1].set_xlabel('True Values')\n",
    "ax[1].set_ylabel('Predicted Values')\n",
    "ax[1].set_title('Model 2')\n",
    "sns.scatterplot(x=y_test, y=Y_test_pred3, ax=ax[2])\n",
    "ax[2].set_xlabel('True Values')\n",
    "ax[2].set_ylabel('Predicted Values')\n",
    "ax[2].set_title('Model 3')\n",
    "plt.show()"
   ]
  },
  {
   "cell_type": "markdown",
   "metadata": {},
   "source": [
    "Is sales expected to increase if price (P1) is increased?\n"
   ]
  },
  {
   "cell_type": "code",
   "execution_count": 24,
   "metadata": {},
   "outputs": [
    {
     "name": "stdout",
     "output_type": "stream",
     "text": [
      "                            OLS Regression Results                            \n",
      "==============================================================================\n",
      "Dep. Variable:                  Sales   R-squared:                       0.986\n",
      "Model:                            OLS   Adj. R-squared:                  0.986\n",
      "Method:                 Least Squares   F-statistic:                     2704.\n",
      "Date:                Sun, 21 Jan 2024   Prob (F-statistic):           4.71e-72\n",
      "Time:                        16:17:26   Log-Likelihood:                -380.51\n",
      "No. Observations:                  80   AIC:                             767.0\n",
      "Df Residuals:                      77   BIC:                             774.2\n",
      "Df Model:                           2                                         \n",
      "Covariance Type:            nonrobust                                         \n",
      "==============================================================================\n",
      "                 coef    std err          t      P>|t|      [0.025      0.975]\n",
      "------------------------------------------------------------------------------\n",
      "const        129.7632      9.751     13.308      0.000     110.346     149.180\n",
      "p1           -99.7901      3.013    -33.117      0.000    -105.790     -93.790\n",
      "p2           108.3775      1.603     67.627      0.000     105.186     111.569\n",
      "==============================================================================\n",
      "Omnibus:                        1.571   Durbin-Watson:                   1.750\n",
      "Prob(Omnibus):                  0.456   Jarque-Bera (JB):                1.352\n",
      "Skew:                          -0.156   Prob(JB):                        0.509\n",
      "Kurtosis:                       2.445   Cond. No.                         29.9\n",
      "==============================================================================\n",
      "\n",
      "Notes:\n",
      "[1] Standard Errors assume that the covariance matrix of the errors is correctly specified.\n"
     ]
    }
   ],
   "source": [
    "#Printing the stats summary of our model3\n",
    "X2 = sm.add_constant(X_train)\n",
    "est = sm.OLS(y_train, X2)\n",
    "est2 = est.fit()\n",
    "print(est2.summary())"
   ]
  },
  {
   "cell_type": "markdown",
   "metadata": {},
   "source": [
    "Interpretation: Sales & P1 are negatively corelated. Keeping P2 constant, sales will decrease by avg of 99 units for every unit increase in P1."
   ]
  },
  {
   "cell_type": "markdown",
   "metadata": {},
   "source": [
    "What do you get if you predict sales as a function of P1 only?"
   ]
  },
  {
   "cell_type": "code",
   "execution_count": 27,
   "metadata": {},
   "outputs": [
    {
     "name": "stdout",
     "output_type": "stream",
     "text": [
      "                            OLS Regression Results                            \n",
      "==============================================================================\n",
      "Dep. Variable:                  Sales   R-squared:                       0.152\n",
      "Model:                            OLS   Adj. R-squared:                  0.141\n",
      "Method:                 Least Squares   F-statistic:                     13.99\n",
      "Date:                Sun, 21 Jan 2024   Prob (F-statistic):           0.000349\n",
      "Time:                        16:20:01   Log-Likelihood:                -544.55\n",
      "No. Observations:                  80   AIC:                             1093.\n",
      "Df Residuals:                      78   BIC:                             1098.\n",
      "Df Model:                           1                                         \n",
      "Covariance Type:            nonrobust                                         \n",
      "==============================================================================\n",
      "                 coef    std err          t      P>|t|      [0.025      0.975]\n",
      "------------------------------------------------------------------------------\n",
      "const        246.1960     74.109      3.322      0.001      98.656     393.736\n",
      "p1            56.0651     14.989      3.740      0.000      26.225      85.906\n",
      "==============================================================================\n",
      "Omnibus:                        1.170   Durbin-Watson:                   2.346\n",
      "Prob(Omnibus):                  0.557   Jarque-Bera (JB):                0.729\n",
      "Skew:                           0.218   Prob(JB):                        0.695\n",
      "Kurtosis:                       3.168   Cond. No.                         15.3\n",
      "==============================================================================\n",
      "\n",
      "Notes:\n",
      "[1] Standard Errors assume that the covariance matrix of the errors is correctly specified.\n"
     ]
    }
   ],
   "source": [
    "#Printing the stats summary of our model1\n",
    "X2 = sm.add_constant(X_train['p1'])\n",
    "est = sm.OLS(y_train, X2)\n",
    "est2 = est.fit()\n",
    "print(est2.summary())"
   ]
  },
  {
   "cell_type": "markdown",
   "metadata": {},
   "source": [
    "Interpretation: Sales & P1 are positively corelated if the model is based only on P1. This is because P1 & P2 are highly corelated and if we don't control for P2, it's effect is felt on the Sales which makes p1 also positivly corelated to sales. This shows that corelation is not casuation"
   ]
  },
  {
   "cell_type": "code",
   "execution_count": null,
   "metadata": {},
   "outputs": [],
   "source": []
  }
 ],
 "metadata": {
  "colab": {
   "authorship_tag": "ABX9TyN1i1aLPQwclXzVxarmgkT8",
   "provenance": []
  },
  "kernelspec": {
   "display_name": "Python 3 (ipykernel)",
   "language": "python",
   "name": "python3"
  },
  "language_info": {
   "codemirror_mode": {
    "name": "ipython",
    "version": 3
   },
   "file_extension": ".py",
   "mimetype": "text/x-python",
   "name": "python",
   "nbconvert_exporter": "python",
   "pygments_lexer": "ipython3",
   "version": "3.9.12"
  }
 },
 "nbformat": 4,
 "nbformat_minor": 1
}
