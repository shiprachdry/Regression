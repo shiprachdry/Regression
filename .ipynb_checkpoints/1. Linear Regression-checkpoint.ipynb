{
 "cells": [
  {
   "cell_type": "markdown",
   "metadata": {
    "id": "YqCSLkX4Ai9a"
   },
   "source": [
    "Please make sure your code runs and the graphs and figures are displayed in your notebook before submitting (use %matplotlib inline).\n",
    "\n",
    "Additionally, upload any images you plan to incorporate in your notebook as attachments so we can see them in case the uploaded images don't appear properly on our end."
   ]
  },
  {
   "cell_type": "markdown",
   "metadata": {
    "id": "q9i7mNDxC1JV"
   },
   "source": [
    "## 1. Linear Regression (10 points)\n",
    "The given file `PricesSales.xls` contains sales data for a commodity along with two variables p1 and p2 which can predict the sales. Given this dataset we need to build linear regression models and visualise their predictions. Use the following steps for training and visualising :\n",
    "\n",
    "i). Divide the data into a train and test set where train dataset consists of 80% of the entire dataset and test consists of the remaining 20%. (2 points)\n",
    "\n",
    "ii). Using Ordinary Least Squares from [sklearn](https://scikit-learn.org/stable/modules/linear_model.html), train 3 different Linear Regression models with 1) only p1 as an independent variable (Model-1), 2) only p2 as an independent variable (Model-2), and 3) both [p1, p2] in independent variables (Model-3). (5 points)\n",
    "\n",
    "iii). Predict the value of sales by using each of the above trained models independently to obtain 3 sets of predictions. (3 points)\n",
    "\n",
    "iv). Now in three different figures, plot:\n",
    "\n",
    "  a) predictions obtained using Model-1 vs actual (true) sales.\n",
    "\n",
    "  b) predictions obtained using Model-2 vs actual (true) sales.\n",
    "\n",
    "  c) predictions obtained using Model-3 vs actual (true) sales.\n"
   ]
  },
  {
   "cell_type": "markdown",
   "metadata": {
    "id": "pEfROaNqz9YH"
   },
   "source": [
    "Solution"
   ]
  },
  {
   "cell_type": "code",
   "execution_count": null,
   "metadata": {
    "id": "-ekgqGA2z-lz"
   },
   "outputs": [],
   "source": [
    "import pandas as pd\n",
    "import matplotlib.pyplot as plt\n",
    "import numpy as np\n",
    "%matplotlib inline\n",
    "\n",
    "from sklearn.model_selection import train_test_split\n",
    "from sklearn.linear_model import LinearRegression"
   ]
  },
  {
   "cell_type": "code",
   "execution_count": null,
   "metadata": {
    "id": "wROd9Z-jz_D0"
   },
   "outputs": [],
   "source": [
    "dataset = pd.read_excel('PricesSales.xls')"
   ]
  }
 ],
 "metadata": {
  "colab": {
   "authorship_tag": "ABX9TyN1i1aLPQwclXzVxarmgkT8",
   "provenance": []
  },
  "kernelspec": {
   "display_name": "Python 3 (ipykernel)",
   "language": "python",
   "name": "python3"
  },
  "language_info": {
   "codemirror_mode": {
    "name": "ipython",
    "version": 3
   },
   "file_extension": ".py",
   "mimetype": "text/x-python",
   "name": "python",
   "nbconvert_exporter": "python",
   "pygments_lexer": "ipython3",
   "version": "3.9.12"
  }
 },
 "nbformat": 4,
 "nbformat_minor": 1
}
